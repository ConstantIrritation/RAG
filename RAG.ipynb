{
 "cells": [
  {
   "cell_type": "code",
   "execution_count": 1,
   "id": "6561f7c2-3be6-4200-98b7-a4a0669122c3",
   "metadata": {},
   "outputs": [
    {
     "name": "stdout",
     "output_type": "stream",
     "text": [
      "Note: you may need to restart the kernel to use updated packages.\n"
     ]
    },
    {
     "name": "stderr",
     "output_type": "stream",
     "text": [
      "\n",
      "[notice] A new release of pip is available: 24.0 -> 24.3.1\n",
      "[notice] To update, run: python.exe -m pip install --upgrade pip\n"
     ]
    }
   ],
   "source": [
    "%pip install -q langchain==0.2.8 langchain-chroma==0.1.2 chromadb==0.4.18"
   ]
  },
  {
   "cell_type": "code",
   "execution_count": 2,
   "id": "0c65bb83-3455-4111-98eb-af21cde1967a",
   "metadata": {
    "scrolled": true
   },
   "outputs": [
    {
     "name": "stdout",
     "output_type": "stream",
     "text": [
      "Note: you may need to restart the kernel to use updated packages.\n"
     ]
    },
    {
     "name": "stderr",
     "output_type": "stream",
     "text": [
      "\n",
      "[notice] A new release of pip is available: 24.0 -> 24.3.1\n",
      "[notice] To update, run: python.exe -m pip install --upgrade pip\n"
     ]
    },
    {
     "name": "stdout",
     "output_type": "stream",
     "text": [
      "Requirement already satisfied: transformers in c:\\users\\asche\\appdata\\local\\programs\\python\\python311\\lib\\site-packages (4.48.0)\n",
      "Requirement already satisfied: torch in c:\\users\\asche\\appdata\\local\\programs\\python\\python311\\lib\\site-packages (2.3.0)\n",
      "Requirement already satisfied: einops in c:\\users\\asche\\appdata\\local\\programs\\python\\python311\\lib\\site-packages (0.8.0)\n",
      "Requirement already satisfied: filelock in c:\\users\\asche\\appdata\\local\\programs\\python\\python311\\lib\\site-packages (from transformers) (3.14.0)\n",
      "Requirement already satisfied: huggingface-hub<1.0,>=0.24.0 in c:\\users\\asche\\appdata\\local\\programs\\python\\python311\\lib\\site-packages (from transformers) (0.27.1)\n",
      "Requirement already satisfied: numpy>=1.17 in c:\\users\\asche\\appdata\\local\\programs\\python\\python311\\lib\\site-packages (from transformers) (1.26.4)\n",
      "Requirement already satisfied: packaging>=20.0 in c:\\users\\asche\\appdata\\local\\programs\\python\\python311\\lib\\site-packages (from transformers) (24.0)\n",
      "Requirement already satisfied: pyyaml>=5.1 in c:\\users\\asche\\appdata\\local\\programs\\python\\python311\\lib\\site-packages (from transformers) (6.0.1)\n",
      "Requirement already satisfied: regex!=2019.12.17 in c:\\users\\asche\\appdata\\local\\programs\\python\\python311\\lib\\site-packages (from transformers) (2024.11.6)\n",
      "Requirement already satisfied: requests in c:\\users\\asche\\appdata\\local\\programs\\python\\python311\\lib\\site-packages (from transformers) (2.32.2)\n",
      "Requirement already satisfied: tokenizers<0.22,>=0.21 in c:\\users\\asche\\appdata\\local\\programs\\python\\python311\\lib\\site-packages (from transformers) (0.21.0)\n",
      "Requirement already satisfied: safetensors>=0.4.1 in c:\\users\\asche\\appdata\\local\\programs\\python\\python311\\lib\\site-packages (from transformers) (0.5.2)\n",
      "Requirement already satisfied: tqdm>=4.27 in c:\\users\\asche\\appdata\\local\\programs\\python\\python311\\lib\\site-packages (from transformers) (4.66.5)\n",
      "Requirement already satisfied: typing-extensions>=4.8.0 in c:\\users\\asche\\appdata\\local\\programs\\python\\python311\\lib\\site-packages (from torch) (4.11.0)\n",
      "Requirement already satisfied: sympy in c:\\users\\asche\\appdata\\local\\programs\\python\\python311\\lib\\site-packages (from torch) (1.12)\n",
      "Requirement already satisfied: networkx in c:\\users\\asche\\appdata\\local\\programs\\python\\python311\\lib\\site-packages (from torch) (3.3)\n",
      "Requirement already satisfied: jinja2 in c:\\users\\asche\\appdata\\local\\programs\\python\\python311\\lib\\site-packages (from torch) (3.1.4)\n",
      "Requirement already satisfied: fsspec in c:\\users\\asche\\appdata\\local\\programs\\python\\python311\\lib\\site-packages (from torch) (2024.5.0)\n",
      "Requirement already satisfied: mkl<=2021.4.0,>=2021.1.1 in c:\\users\\asche\\appdata\\local\\programs\\python\\python311\\lib\\site-packages (from torch) (2021.4.0)\n",
      "Requirement already satisfied: intel-openmp==2021.* in c:\\users\\asche\\appdata\\local\\programs\\python\\python311\\lib\\site-packages (from mkl<=2021.4.0,>=2021.1.1->torch) (2021.4.0)\n",
      "Requirement already satisfied: tbb==2021.* in c:\\users\\asche\\appdata\\local\\programs\\python\\python311\\lib\\site-packages (from mkl<=2021.4.0,>=2021.1.1->torch) (2021.12.0)\n",
      "Requirement already satisfied: colorama in c:\\users\\asche\\appdata\\local\\programs\\python\\python311\\lib\\site-packages (from tqdm>=4.27->transformers) (0.4.6)\n",
      "Requirement already satisfied: MarkupSafe>=2.0 in c:\\users\\asche\\appdata\\local\\programs\\python\\python311\\lib\\site-packages (from jinja2->torch) (2.1.5)\n",
      "Requirement already satisfied: charset-normalizer<4,>=2 in c:\\users\\asche\\appdata\\local\\programs\\python\\python311\\lib\\site-packages (from requests->transformers) (3.3.2)\n",
      "Requirement already satisfied: idna<4,>=2.5 in c:\\users\\asche\\appdata\\local\\programs\\python\\python311\\lib\\site-packages (from requests->transformers) (3.7)\n",
      "Requirement already satisfied: urllib3<3,>=1.21.1 in c:\\users\\asche\\appdata\\local\\programs\\python\\python311\\lib\\site-packages (from requests->transformers) (2.2.1)\n",
      "Requirement already satisfied: certifi>=2017.4.17 in c:\\users\\asche\\appdata\\local\\programs\\python\\python311\\lib\\site-packages (from requests->transformers) (2024.2.2)\n",
      "Requirement already satisfied: mpmath>=0.19 in c:\\users\\asche\\appdata\\local\\programs\\python\\python311\\lib\\site-packages (from sympy->torch) (1.3.0)\n",
      "Note: you may need to restart the kernel to use updated packages.\n"
     ]
    },
    {
     "name": "stderr",
     "output_type": "stream",
     "text": [
      "\n",
      "[notice] A new release of pip is available: 24.0 -> 24.3.1\n",
      "[notice] To update, run: python.exe -m pip install --upgrade pip\n"
     ]
    },
    {
     "name": "stdout",
     "output_type": "stream",
     "text": [
      "Note: you may need to restart the kernel to use updated packages.\n"
     ]
    },
    {
     "name": "stderr",
     "output_type": "stream",
     "text": [
      "ЌҐ г¤ Ґвбп ­ ©вЁ гЄ § ­­л© д ©«.\n"
     ]
    }
   ],
   "source": [
    "%pip install -q langchain==0.2.8\n",
    "%pip install transformers torch einops\n",
    "%pip install 'numpy<2'"
   ]
  },
  {
   "cell_type": "code",
   "execution_count": 3,
   "id": "50c79fff-da30-4fce-b40e-a02aba357117",
   "metadata": {},
   "outputs": [],
   "source": [
    "import requests\n",
    "import numpy as np\n",
    "# import faiss\n",
    "import os"
   ]
  },
  {
   "cell_type": "code",
   "execution_count": 21,
   "id": "1f8e8160-2b97-4d10-b0cd-9c82f4e2e2ac",
   "metadata": {},
   "outputs": [],
   "source": [
    "texts = [os.path.join('./lectures', text) for text in os.listdir('./lectures')]\n",
    "g = open('essay.txt', 'w')\n",
    "for text in texts:\n",
    "    with open(text, \"r\",  encoding=\"utf-8\") as f:\n",
    "        t = f.read()\n",
    "        g.write(t)\n",
    "g.close()"
   ]
  },
  {
   "cell_type": "code",
   "execution_count": 4,
   "id": "62ca6ad9-c270-4aee-b461-96b942bc6aa6",
   "metadata": {},
   "outputs": [],
   "source": [
    "with open('essay.txt', \"r\") as g:\n",
    "    text = g.read()\n",
    "    chunk_size = 2048\n",
    "    chunks = [text[i:i + chunk_size] for i in range(0, len(text), chunk_size)]"
   ]
  },
  {
   "cell_type": "code",
   "execution_count": 5,
   "id": "ac870535-0ad6-4088-9526-26bffe2b87b2",
   "metadata": {
    "scrolled": true
   },
   "outputs": [
    {
     "data": {
      "text/plain": [
       "37"
      ]
     },
     "execution_count": 5,
     "metadata": {},
     "output_type": "execute_result"
    }
   ],
   "source": [
    "len(chunks)"
   ]
  },
  {
   "cell_type": "code",
   "execution_count": 8,
   "id": "c9905851-5fff-4a90-a67a-35abacf3c8c0",
   "metadata": {
    "scrolled": true
   },
   "outputs": [
    {
     "name": "stdout",
     "output_type": "stream",
     "text": [
      "[-9.13396031e-02 -1.75151527e-01 -1.59966405e-02  2.91613042e-01\n",
      " -2.54094917e-02 -2.89567113e-01  8.36245045e-02  5.86864352e-02\n",
      " -1.53837567e-02  4.16542776e-02  1.47793859e-01 -3.97765823e-02\n",
      " -2.23270729e-01 -1.45194709e-01  1.42224446e-01 -3.12424630e-01\n",
      " -1.01314634e-02 -2.82872856e-01 -1.13619506e-01 -2.04220891e-01\n",
      " -3.52307670e-02 -3.44558716e-01  1.28138453e-01 -3.33247989e-01\n",
      "  3.71965677e-01 -1.15847617e-01 -3.29494148e-01 -4.28082794e-02\n",
      "  2.37138689e-01  2.59559572e-01 -8.03757180e-03  9.60875005e-02\n",
      " -2.56749708e-02  2.69982934e-01 -3.97022367e-01  1.31641686e-01\n",
      "  2.65833765e-01  5.26349247e-02 -1.18016802e-01 -3.69086742e-01\n",
      " -2.69569248e-01  1.44196795e-02  2.81785488e-01  1.20239407e-01\n",
      " -3.71896654e-01  8.03141072e-02 -4.20731455e-01  2.33962432e-01\n",
      "  4.49521318e-02 -1.84322000e-02 -3.01245362e-01  2.18079373e-01\n",
      " -6.29352808e-01  5.02580479e-02 -3.08231153e-02  2.89443612e-01\n",
      " -7.41175339e-02  1.80217445e-01 -2.20154822e-01 -9.57682878e-02\n",
      "  1.98798239e-01  1.06709979e-01 -2.98715860e-01  3.23134452e-01\n",
      " -3.19608808e-01 -2.55627662e-01 -4.72879373e-02 -2.82928914e-01\n",
      " -1.45899147e-01  2.28480130e-01 -5.65444469e-01  1.06701963e-01\n",
      "  3.37471753e-01 -2.75269538e-01  7.15583563e-03 -2.64389217e-02\n",
      "  5.27900681e-02  1.57676935e-01  8.73066671e-03 -2.85490423e-01\n",
      " -2.72967607e-01  1.73310846e-01 -2.29776189e-01  3.11868548e-01\n",
      "  9.55727417e-03 -1.24861553e-01  1.87833980e-01  2.56838143e-01\n",
      "  3.96048665e-01  2.54794303e-02 -1.71673112e-02  2.93073148e-01\n",
      " -9.28619057e-02 -2.99603790e-01  5.93757145e-02 -2.61273403e-02\n",
      "  2.46764988e-01  6.40862137e-02 -2.27498606e-01  2.22221032e-01\n",
      "  3.61773312e-01  2.58816481e-01  3.42230171e-01 -1.17023587e-01\n",
      " -3.68467270e-04  3.06453079e-01 -2.81266659e-01  1.64164882e-02\n",
      " -3.21022153e-01 -3.31293523e-01 -1.26594096e-01 -3.86470497e-01\n",
      " -2.90553160e-02 -1.14316352e-01 -2.55218089e-01  2.81062070e-02\n",
      "  6.80672452e-02 -2.41962209e-01 -1.02725782e-01  5.52884750e-02\n",
      "  1.38007626e-01 -4.95663062e-02 -2.11106881e-01  3.30212414e-01\n",
      "  2.71390080e-01  2.70185024e-01 -8.91712494e-03 -3.55225429e-02\n",
      "  1.95907783e-02  5.05069606e-02 -1.08902320e-01  9.58196744e-02\n",
      "  6.96230084e-02  2.48520494e-01  4.45956916e-01 -1.63192809e-01\n",
      "  9.64708030e-02 -1.34021014e-01 -2.79588699e-01  2.72305161e-01\n",
      " -2.00560734e-01  9.74440388e-03  5.44384383e-02 -2.67525464e-01\n",
      " -4.60835434e-02  1.10324793e-01  1.60005555e-01  3.32508273e-02\n",
      " -2.62157261e-01  1.12837717e-01 -1.35920554e-01  3.92801911e-01\n",
      " -3.67019057e-01  1.34116471e-01  3.12092006e-02  5.53340241e-02\n",
      " -4.14062023e-01  1.64580613e-01 -5.53317182e-02 -8.43385085e-02\n",
      " -1.84474096e-01  8.44138041e-02  3.17523777e-02 -2.40585908e-01\n",
      " -1.42079622e-01  6.24166802e-02  2.53360331e-01  7.18306661e-01\n",
      " -2.14536712e-01 -1.66469499e-01  3.04854333e-01  3.28139365e-01\n",
      " -2.49879420e-01 -1.43364385e-01 -2.94196755e-01 -8.45855474e-02\n",
      " -2.77319551e-01 -9.05394554e-03 -5.15655875e-02 -3.67973030e-01\n",
      "  9.02623162e-02 -2.07458034e-01 -1.16028532e-01  2.85589933e-01\n",
      "  2.13326197e-02 -8.01384747e-02  9.90692154e-02 -3.21828164e-02\n",
      "  1.31774977e-01 -3.17027599e-01 -3.48663986e-01 -1.90803841e-01\n",
      " -2.10718485e-03 -1.72697887e-01 -1.39581546e-01  1.72383532e-01\n",
      " -1.98902801e-01  4.00301784e-01 -2.62822270e-01  9.59812030e-02\n",
      " -8.61270130e-02  3.10320795e-01 -1.09308451e-01  6.76473528e-02\n",
      " -3.96426395e-02  4.56713736e-01 -1.88041121e-01  7.87799284e-02\n",
      " -2.56149828e-01  4.86314707e-02  1.26153216e-01  1.38510451e-01\n",
      "  3.82708371e-01  1.55748770e-01  7.72031173e-02 -1.52446255e-01\n",
      " -3.84125680e-01 -1.51131108e-01  2.09712163e-01 -2.07133681e-01\n",
      " -2.13258783e-03  8.27461034e-02  6.09481260e-02  2.43785977e-01\n",
      "  2.10123733e-02 -1.83457389e-01 -1.73268989e-01  2.81864345e-01\n",
      " -1.09460630e-01 -2.43131176e-01  3.04929167e-01 -2.15740889e-01\n",
      " -2.50217140e-01  2.24332139e-01  1.43463826e-02 -9.55381244e-02\n",
      " -2.30721399e-01 -1.04103766e-01 -3.56509149e-01  4.56108451e-02\n",
      " -2.85718650e-01  2.80814874e-03  2.62131840e-01  1.29144732e-02\n",
      " -2.13424638e-02  2.38332942e-01  1.19724020e-01 -1.26127273e-01\n",
      "  1.60113320e-01  3.56651843e-01 -8.51980522e-02 -1.28353396e-02\n",
      " -3.55220467e-01 -3.99729341e-01  2.34174337e-02  6.56063408e-02\n",
      " -5.43086752e-02  3.68681550e-01 -3.29948217e-01 -1.48973987e-01\n",
      "  9.28538442e-02  2.37913698e-01 -6.07886091e-02  2.76864976e-01\n",
      " -1.86046049e-01 -1.27534628e-01 -4.10639644e-01 -2.24284902e-02\n",
      "  4.18024510e-01  3.19464505e-01  2.13483460e-02  1.34806931e-01\n",
      "  1.07070699e-01 -2.62348473e-01 -2.02994555e-01  1.28232002e-01\n",
      "  1.80372089e-01  6.02242768e-01  7.06596598e-02 -2.12002277e-01\n",
      " -1.55802637e-01 -3.53117175e-02  5.45628443e-02 -7.81793743e-02\n",
      "  2.58165181e-01  1.52313069e-01  4.12230968e-01  2.67961293e-01\n",
      "  3.20451349e-01  1.42982408e-01 -1.25588737e-02 -3.00320119e-01\n",
      "  3.25397998e-01  2.31316075e-01 -2.67657340e-01  1.97638869e-01\n",
      "  7.11346865e-02  1.23866871e-01 -1.80054650e-01 -1.01838611e-01\n",
      "  4.52219874e-01  2.08928019e-01 -1.66404471e-01 -8.13511834e-02\n",
      " -1.83298618e-01 -2.68496186e-01  1.59862548e-01 -1.10004820e-01\n",
      " -1.51659131e-01  3.11323144e-02  1.27378508e-01 -2.07346097e-01\n",
      "  1.16370507e-01 -1.70864150e-01  1.64208040e-01  3.61950919e-02\n",
      "  3.37868720e-01  3.15299467e-03 -2.70564675e-01 -9.28261131e-02\n",
      " -2.29660735e-01 -7.90370256e-02  2.18759805e-01  3.84778273e-03\n",
      "  1.54293850e-01  1.58242404e-01 -2.00161338e-01 -3.30209918e-02\n",
      " -5.85760828e-03  7.11976588e-02 -2.64468759e-01 -4.03116904e-02\n",
      " -6.56170696e-02 -2.65827090e-01 -7.71471933e-02  5.53130619e-02\n",
      " -1.94888338e-01 -4.02256176e-02 -6.43226802e-02 -1.53121427e-01\n",
      "  2.12973922e-01  6.13957606e-02  6.03848584e-02  3.09554070e-01\n",
      "  2.56897435e-02  6.27814308e-02  7.28740171e-02 -2.16927022e-01\n",
      " -1.18169054e-01 -4.40262347e-01  4.01312798e-01 -1.07182503e-01\n",
      " -1.00696363e-01 -5.85435219e-02 -2.33080804e-01 -2.33743832e-01\n",
      "  7.43955970e-02  2.20403805e-01 -2.71181226e-01  5.08870482e-01\n",
      " -6.84901699e-02 -3.49233538e-01  8.82155746e-02  3.15361321e-01\n",
      "  1.51631907e-01 -2.47903779e-01 -4.75940332e-02 -3.24110210e-01\n",
      "  2.52996907e-02  1.88520551e-01  4.47092623e-01  1.50447056e-01\n",
      "  8.39019641e-02 -1.18503995e-01  5.27474508e-02 -1.38410479e-01\n",
      "  2.73368627e-01 -8.80451575e-02  2.56664790e-02 -3.45431194e-02\n",
      "  6.79564849e-02  9.86827016e-02  1.73052289e-02 -1.10647097e-01\n",
      " -1.51350334e-01  2.52316594e-01  9.81831923e-02  8.59155953e-02\n",
      "  2.17975080e-01  2.31672470e-02  4.02656570e-02 -4.64397855e-02\n",
      " -1.45733312e-01  1.07383505e-01  2.06151620e-01 -1.15816221e-01\n",
      " -2.31967866e-02  2.48282954e-01 -2.98168391e-01  4.00757462e-01\n",
      " -1.35249242e-01  2.94377983e-01 -2.53796220e-01  4.10951562e-02\n",
      "  1.83113173e-01 -1.45455867e-01 -1.84328884e-01 -1.10428460e-01\n",
      "  1.11546792e-01  1.52079046e-01  1.93958446e-01  2.70827204e-01\n",
      " -1.81364473e-02 -6.72520697e-03  6.95354640e-02 -3.19224089e-01\n",
      " -8.01839903e-02 -2.28530347e-01 -7.98191056e-02  2.65168697e-01\n",
      "  2.12756306e-01 -2.77062893e-01 -2.72962034e-01  2.87746303e-02\n",
      "  1.54359788e-01 -3.31253000e-02  7.77935013e-02 -2.88853850e-02\n",
      "  2.72700131e-01  2.48304859e-01  8.87056142e-02 -1.72842115e-01\n",
      " -7.70758465e-02 -6.70550391e-02 -1.08169122e-02  5.55087030e-02\n",
      "  3.13448310e-01 -2.18746856e-01  1.29753873e-01 -8.52137133e-02\n",
      "  5.86661041e-01 -4.51048881e-01  1.65851384e-01  7.67150819e-02\n",
      "  1.60433188e-01  6.00731909e-01  3.17987889e-01 -2.19812945e-01\n",
      "  1.83760256e-01  8.64132866e-02  2.57520378e-01  4.26799744e-01\n",
      " -1.31142989e-01 -6.44409955e-02 -1.27555057e-01 -4.26519737e-02\n",
      " -8.34794194e-02 -4.10063058e-01 -1.40070096e-01  8.50913953e-03\n",
      "  2.48019040e-01 -5.73895574e-02 -1.89667270e-01  2.29810447e-01\n",
      "  2.45576188e-01  3.21455635e-02  2.70760626e-01 -4.68584895e-02\n",
      "  2.19398573e-01  1.83279291e-01 -1.17355347e-01 -1.93125620e-01\n",
      "  1.16823688e-01  2.45197862e-01  3.20958793e-01  1.68863069e-02\n",
      "  2.77761728e-01  3.09327930e-01 -1.64200723e-01  3.86546254e-01\n",
      " -4.90902692e-01 -3.04024637e-01 -2.99881667e-01 -5.54403186e-01\n",
      " -3.11167121e-01  8.53476599e-02 -1.36744663e-01  1.14007905e-01\n",
      "  4.72600102e-01  1.84437677e-01 -1.80106804e-01 -3.45409185e-01\n",
      "  3.39506269e-02 -1.54958129e-01  1.25685588e-01  2.00854078e-01\n",
      "  9.81361419e-03 -1.52002469e-01  2.23208949e-01  3.57399344e-01\n",
      "  2.38457069e-01  1.27804741e-01  5.79127111e-02  2.46958300e-01\n",
      " -1.67770401e-01  2.01176733e-01  2.31910567e-03 -2.71094233e-01\n",
      " -4.25867379e-01  1.53691486e-01  2.00677902e-01 -1.01051129e-01]\n"
     ]
    }
   ],
   "source": [
    "from transformers import AutoModel\n",
    "\n",
    "# Initialize the model\n",
    "model = AutoModel.from_pretrained(\"jinaai/jina-embeddings-v2-small-en\", trust_remote_code=True)\n",
    "\n",
    "# When calling the `encode` function, you can choose a `task` based on the use case:\n",
    "# 'retrieval.query', 'retrieval.passage', 'separation', 'classification', 'text-matching'\n",
    "# Alternatively, you can choose not to pass a `task`, and no specific LoRA adapter will be used.\n",
    "embeddings = model.encode(chunks)\n",
    "\n",
    "print(embeddings[0])"
   ]
  },
  {
   "cell_type": "code",
   "execution_count": 24,
   "id": "a19d469a-2f13-4c77-b41b-15c8fcf54f1e",
   "metadata": {},
   "outputs": [],
   "source": [
    "from langchain.vectorstores import FAISS\n",
    "from langchain.embeddings import HuggingFaceInferenceAPIEmbeddings\n",
    "\n",
    "embeddings = HuggingFaceInferenceAPIEmbeddings(api_key='',model_name=\"\")\n",
    "faiss_index = FAISS.from_texts(chunks, embedding=embeddings)"
   ]
  },
  {
   "cell_type": "code",
   "execution_count": null,
   "id": "f1a03906-265d-4e60-9b8d-5d6459fead83",
   "metadata": {},
   "outputs": [],
   "source": []
  }
 ],
 "metadata": {
  "kernelspec": {
   "display_name": "Python 3 (ipykernel)",
   "language": "python",
   "name": "python3"
  },
  "language_info": {
   "codemirror_mode": {
    "name": "ipython",
    "version": 3
   },
   "file_extension": ".py",
   "mimetype": "text/x-python",
   "name": "python",
   "nbconvert_exporter": "python",
   "pygments_lexer": "ipython3",
   "version": "3.11.9"
  }
 },
 "nbformat": 4,
 "nbformat_minor": 5
}
